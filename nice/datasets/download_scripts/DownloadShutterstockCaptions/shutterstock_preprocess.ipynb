{
 "cells": [
  {
   "cell_type": "code",
   "execution_count": 3,
   "id": "120c5e2b",
   "metadata": {},
   "outputs": [],
   "source": [
    "import os\n",
    "import json\n",
    "\n",
    "import pandas as pd\n",
    "import numpy as np\n",
    "\n",
    "### should be modified properly. ###\n",
    "data_root = \"../../../../../datasets\"\n",
    "####################################"
   ]
  },
  {
   "cell_type": "code",
   "execution_count": 4,
   "id": "4e81cb4b",
   "metadata": {},
   "outputs": [
    {
     "data": {
      "text/html": [
       "<div>\n",
       "<style scoped>\n",
       "    .dataframe tbody tr th:only-of-type {\n",
       "        vertical-align: middle;\n",
       "    }\n",
       "\n",
       "    .dataframe tbody tr th {\n",
       "        vertical-align: top;\n",
       "    }\n",
       "\n",
       "    .dataframe thead th {\n",
       "        text-align: right;\n",
       "    }\n",
       "</style>\n",
       "<table border=\"1\" class=\"dataframe\">\n",
       "  <thead>\n",
       "    <tr style=\"text-align: right;\">\n",
       "      <th></th>\n",
       "      <th>url</th>\n",
       "      <th>caption</th>\n",
       "    </tr>\n",
       "  </thead>\n",
       "  <tbody>\n",
       "    <tr>\n",
       "      <th>0</th>\n",
       "      <td>https://image.shutterstock.com/image-vector/ha...</td>\n",
       "      <td>half filled goblet with juice\\t</td>\n",
       "    </tr>\n",
       "    <tr>\n",
       "      <th>1</th>\n",
       "      <td>https://image.shutterstock.com/image-illustrat...</td>\n",
       "      <td>Simple Boy and Girl.  Icon. Imitation draw wit...</td>\n",
       "    </tr>\n",
       "    <tr>\n",
       "      <th>2</th>\n",
       "      <td>https://image.shutterstock.com/image-photo/sil...</td>\n",
       "      <td>Silhouette of airplane in sky. Mixed media . M...</td>\n",
       "    </tr>\n",
       "    <tr>\n",
       "      <th>3</th>\n",
       "      <td>https://image.shutterstock.com/image-illustrat...</td>\n",
       "      <td>to paint a wall</td>\n",
       "    </tr>\n",
       "    <tr>\n",
       "      <th>4</th>\n",
       "      <td>https://image.shutterstock.com/image-vector/ab...</td>\n",
       "      <td>Abstract seamless pattern painted in colors of...</td>\n",
       "    </tr>\n",
       "  </tbody>\n",
       "</table>\n",
       "</div>"
      ],
      "text/plain": [
       "                                                 url   \n",
       "0  https://image.shutterstock.com/image-vector/ha...  \\\n",
       "1  https://image.shutterstock.com/image-illustrat...   \n",
       "2  https://image.shutterstock.com/image-photo/sil...   \n",
       "3  https://image.shutterstock.com/image-illustrat...   \n",
       "4  https://image.shutterstock.com/image-vector/ab...   \n",
       "\n",
       "                                             caption  \n",
       "0                    half filled goblet with juice\\t  \n",
       "1  Simple Boy and Girl.  Icon. Imitation draw wit...  \n",
       "2  Silhouette of airplane in sky. Mixed media . M...  \n",
       "3                                    to paint a wall  \n",
       "4  Abstract seamless pattern painted in colors of...  "
      ]
     },
     "execution_count": 4,
     "metadata": {},
     "output_type": "execute_result"
    }
   ],
   "source": [
    "df = pd.read_csv(os.path.join(data_root, \"shutterstock\", \"shutterstock.csv\"), sep=\"\\t\", names=[\"url\", \"caption\"])\n",
    "df.head()"
   ]
  },
  {
   "cell_type": "code",
   "execution_count": 5,
   "id": "2f925ba0",
   "metadata": {},
   "outputs": [
    {
     "name": "stdout",
     "output_type": "stream",
     "text": [
      "Processing... 1000000/15001000\n",
      "Processing... 2000000/15001000\n",
      "Processing... 3000000/15001000\n",
      "Processing... 4000000/15001000\n",
      "Processing... 5000000/15001000\n",
      "Processing... 6000000/15001000\n",
      "Processing... 7000000/15001000\n",
      "Processing... 8000000/15001000\n",
      "Processing... 9000000/15001000\n",
      "Processing... 10000000/15001000\n",
      "Processing... 11000000/15001000\n",
      "Processing... 12000000/15001000\n",
      "Processing... 13000000/15001000\n",
      "Processing... 14000000/15001000\n",
      "Processing... 15000000/15001000\n"
     ]
    }
   ],
   "source": [
    "all_data = []\n",
    "\n",
    "for i, (url, caption) in enumerate(zip(df[\"url\"].values, df[\"caption\"].values)):\n",
    "    if (i+1) % 1000000 == 0:\n",
    "        print(f\"Processing... {i+1}/{len(df)}\")\n",
    "    image_type = url.split(\".com/\")[1].split(\"/\")[0]\n",
    "    if \"image\" not in image_type:\n",
    "        continue\n",
    "    if \"photo\" not in image_type:\n",
    "        continue\n",
    "    image_id = int(url.split(\"-\")[-1].split(\".jpg\")[0])\n",
    "    if image_id >= 215268000 and image_id <= 1908117000:\n",
    "        all_data.append({\"url\": url, \"image_id\": image_id, \"caption\": str(caption).rstrip()})"
   ]
  },
  {
   "cell_type": "code",
   "execution_count": 6,
   "id": "07dec338",
   "metadata": {},
   "outputs": [
    {
     "data": {
      "text/plain": [
       "6784940"
      ]
     },
     "execution_count": 6,
     "metadata": {},
     "output_type": "execute_result"
    }
   ],
   "source": [
    "len(all_data)"
   ]
  },
  {
   "cell_type": "code",
   "execution_count": 7,
   "id": "c7217971",
   "metadata": {},
   "outputs": [],
   "source": [
    "all_ids = [data[\"image_id\"] for data in all_data]"
   ]
  },
  {
   "cell_type": "code",
   "execution_count": 8,
   "id": "99e71e96",
   "metadata": {},
   "outputs": [],
   "source": [
    "nice_val = json.load(open(os.path.join(data_root, \"nice\", \"nice_val.json\"), \"r\"))\n",
    "val_ids = [int(im[\"image\"].split(\"/\")[-1].split(\".jpg\")[0]) for im in nice_val]"
   ]
  },
  {
   "cell_type": "code",
   "execution_count": 9,
   "id": "c969d783",
   "metadata": {},
   "outputs": [],
   "source": [
    "hist, bins = np.histogram(val_ids, bins=200)"
   ]
  },
  {
   "cell_type": "code",
   "execution_count": 10,
   "id": "e3d12530",
   "metadata": {},
   "outputs": [],
   "source": [
    "all_hist, all_bins = np.histogram(all_ids, bins=bins)"
   ]
  },
  {
   "cell_type": "code",
   "execution_count": 11,
   "id": "c1924aae",
   "metadata": {},
   "outputs": [],
   "source": [
    "drop_inds = np.where(hist == 0)[0]\n",
    "all_hist[drop_inds] = 0"
   ]
  },
  {
   "cell_type": "code",
   "execution_count": 12,
   "id": "4f700aa5",
   "metadata": {},
   "outputs": [
    {
     "data": {
      "text/plain": [
       "1105945"
      ]
     },
     "execution_count": 12,
     "metadata": {},
     "output_type": "execute_result"
    }
   ],
   "source": [
    "all_hist.sum()"
   ]
  },
  {
   "cell_type": "code",
   "execution_count": 13,
   "id": "b3527c61",
   "metadata": {},
   "outputs": [],
   "source": [
    "hist_inds = np.where(hist > 0)[0]"
   ]
  },
  {
   "cell_type": "code",
   "execution_count": 14,
   "id": "e0916cd0",
   "metadata": {},
   "outputs": [],
   "source": [
    "intervals = []\n",
    "for hist_ind in hist_inds:\n",
    "    intervals.append((int(bins[hist_ind]), int(bins[hist_ind+1])))"
   ]
  },
  {
   "cell_type": "code",
   "execution_count": 15,
   "id": "4b864f9a",
   "metadata": {},
   "outputs": [],
   "source": [
    "all_ids_np = np.asarray(all_ids)"
   ]
  },
  {
   "cell_type": "code",
   "execution_count": 16,
   "id": "d616bbb8",
   "metadata": {},
   "outputs": [
    {
     "name": "stdout",
     "output_type": "stream",
     "text": [
      "left: 215268662, right: 223732901, len: 40560\n",
      "left: 401481938, right: 409946178, len: 39191\n",
      "left: 1256370162, right: 1264834402, len: 43412\n",
      "left: 1273298642, right: 1281762881, len: 40898\n",
      "left: 1290227121, right: 1298691361, len: 41220\n",
      "left: 1298691361, right: 1307155601, len: 41767\n",
      "left: 1476440398, right: 1484904638, len: 33722\n",
      "left: 1493368877, right: 1501833117, len: 33791\n",
      "left: 1527225837, right: 1535690077, len: 30797\n",
      "left: 1552618556, right: 1561082796, len: 32403\n",
      "left: 1561082796, right: 1569547036, len: 32959\n",
      "left: 1569547036, right: 1578011276, len: 32392\n",
      "left: 1578011276, right: 1586475516, len: 31642\n",
      "left: 1586475516, right: 1594939755, len: 30889\n",
      "left: 1637260955, right: 1645725194, len: 30123\n",
      "left: 1645725194, right: 1654189434, len: 29788\n",
      "left: 1654189434, right: 1662653674, len: 30358\n",
      "left: 1662653674, right: 1671117914, len: 29973\n",
      "left: 1671117914, right: 1679582154, len: 30401\n",
      "left: 1679582154, right: 1688046394, len: 29879\n",
      "left: 1704974873, right: 1713439113, len: 30435\n",
      "left: 1713439113, right: 1721903353, len: 29954\n",
      "left: 1721903353, right: 1730367593, len: 29314\n",
      "left: 1747296073, right: 1755760312, len: 27087\n",
      "left: 1764224552, right: 1772688792, len: 28345\n",
      "left: 1806545751, right: 1815009991, len: 26775\n",
      "left: 1815009991, right: 1823474231, len: 27811\n",
      "left: 1831938471, right: 1840402711, len: 29465\n",
      "left: 1840402711, right: 1848866951, len: 29575\n",
      "left: 1848866951, right: 1857331190, len: 29252\n",
      "left: 1857331190, right: 1865795430, len: 28254\n",
      "left: 1865795430, right: 1874259670, len: 27470\n",
      "left: 1874259670, right: 1882723910, len: 22752\n",
      "left: 1891188150, right: 1899652390, len: 26167\n",
      "left: 1899652390, right: 1908116630, len: 27124\n"
     ]
    }
   ],
   "source": [
    "filter_inds = []\n",
    "for interval in intervals:\n",
    "    left, right = interval\n",
    "    subset_inds = np.bitwise_and(all_ids_np >= left, all_ids_np < right)\n",
    "    subset = all_ids_np[subset_inds]\n",
    "    filter_inds.extend(subset.tolist())\n",
    "    print(f\"left: {left}, right: {right}, len: {len(subset)}\")"
   ]
  },
  {
   "cell_type": "code",
   "execution_count": 17,
   "id": "345b8f4a",
   "metadata": {},
   "outputs": [],
   "source": [
    "filter_inds_set = set(filter_inds)\n",
    "new_all_data = []\n",
    "for data in all_data:\n",
    "    if data[\"image_id\"] in filter_inds_set:\n",
    "        new_all_data.append(data)"
   ]
  },
  {
   "cell_type": "code",
   "execution_count": 18,
   "id": "297fc904",
   "metadata": {},
   "outputs": [
    {
     "data": {
      "text/plain": [
       "1105945"
      ]
     },
     "execution_count": 18,
     "metadata": {},
     "output_type": "execute_result"
    }
   ],
   "source": [
    "len(new_all_data)"
   ]
  },
  {
   "cell_type": "code",
   "execution_count": 19,
   "id": "0618f808",
   "metadata": {},
   "outputs": [
    {
     "data": {
      "text/html": [
       "<div>\n",
       "<style scoped>\n",
       "    .dataframe tbody tr th:only-of-type {\n",
       "        vertical-align: middle;\n",
       "    }\n",
       "\n",
       "    .dataframe tbody tr th {\n",
       "        vertical-align: top;\n",
       "    }\n",
       "\n",
       "    .dataframe thead th {\n",
       "        text-align: right;\n",
       "    }\n",
       "</style>\n",
       "<table border=\"1\" class=\"dataframe\">\n",
       "  <thead>\n",
       "    <tr style=\"text-align: right;\">\n",
       "      <th></th>\n",
       "      <th>url</th>\n",
       "      <th>image_id</th>\n",
       "      <th>caption</th>\n",
       "    </tr>\n",
       "  </thead>\n",
       "  <tbody>\n",
       "    <tr>\n",
       "      <th>0</th>\n",
       "      <td>https://image.shutterstock.com/image-photo/mul...</td>\n",
       "      <td>1300888363</td>\n",
       "      <td>Mule Deer with antlers in Palo Duro Canyon Sta...</td>\n",
       "    </tr>\n",
       "    <tr>\n",
       "      <th>1</th>\n",
       "      <td>https://image.shutterstock.com/image-photo/pot...</td>\n",
       "      <td>1861243240</td>\n",
       "      <td>Potato Pancakes Apple Puree, Nuts and Cinnamon...</td>\n",
       "    </tr>\n",
       "    <tr>\n",
       "      <th>2</th>\n",
       "      <td>https://image.shutterstock.com/image-photo/blu...</td>\n",
       "      <td>1307047705</td>\n",
       "      <td>Blue Sky Trees</td>\n",
       "    </tr>\n",
       "    <tr>\n",
       "      <th>3</th>\n",
       "      <td>https://image.shutterstock.com/image-photo/jeo...</td>\n",
       "      <td>1257901573</td>\n",
       "      <td>JEONJU, KOREA - NOV, 15, 2018: Beautiful Jeonj...</td>\n",
       "    </tr>\n",
       "    <tr>\n",
       "      <th>4</th>\n",
       "      <td>https://image.shutterstock.com/image-photo/tha...</td>\n",
       "      <td>1855531294</td>\n",
       "      <td>Thanksgiving background with decorative pumpki...</td>\n",
       "    </tr>\n",
       "  </tbody>\n",
       "</table>\n",
       "</div>"
      ],
      "text/plain": [
       "                                                 url    image_id   \n",
       "0  https://image.shutterstock.com/image-photo/mul...  1300888363  \\\n",
       "1  https://image.shutterstock.com/image-photo/pot...  1861243240   \n",
       "2  https://image.shutterstock.com/image-photo/blu...  1307047705   \n",
       "3  https://image.shutterstock.com/image-photo/jeo...  1257901573   \n",
       "4  https://image.shutterstock.com/image-photo/tha...  1855531294   \n",
       "\n",
       "                                             caption  \n",
       "0  Mule Deer with antlers in Palo Duro Canyon Sta...  \n",
       "1  Potato Pancakes Apple Puree, Nuts and Cinnamon...  \n",
       "2                                     Blue Sky Trees  \n",
       "3  JEONJU, KOREA - NOV, 15, 2018: Beautiful Jeonj...  \n",
       "4  Thanksgiving background with decorative pumpki...  "
      ]
     },
     "execution_count": 19,
     "metadata": {},
     "output_type": "execute_result"
    }
   ],
   "source": [
    "new_df = pd.DataFrame(new_all_data)\n",
    "new_df.head()"
   ]
  },
  {
   "cell_type": "code",
   "execution_count": 20,
   "id": "2febe561",
   "metadata": {},
   "outputs": [],
   "source": [
    "new_df.to_csv(os.path.join(data_root, \"shutterstock\", \"shutterstock_filtered.csv\"), sep=\"\\t\")"
   ]
  },
  {
   "cell_type": "markdown",
   "id": "9e5ee9aa",
   "metadata": {},
   "source": [
    "### Annotations\n",
    "\n",
    "- Execute download_shutterstock.py as following:\n",
    "```\n",
    "python nice/datasets/download_scripts/DownloadShutterstockCaptions/download_shutterstock.py --data_path ${DATA_PATH}\n",
    "```\n",
    "\n",
    "- This results in `downloaded_shutterstock_report.tar.gz` on `${DATA_PATH}/shutterstock` directory with corresponding images."
   ]
  },
  {
   "cell_type": "code",
   "execution_count": 21,
   "id": "7d1fc6eb",
   "metadata": {},
   "outputs": [
    {
     "data": {
      "text/html": [
       "<div>\n",
       "<style scoped>\n",
       "    .dataframe tbody tr th:only-of-type {\n",
       "        vertical-align: middle;\n",
       "    }\n",
       "\n",
       "    .dataframe tbody tr th {\n",
       "        vertical-align: top;\n",
       "    }\n",
       "\n",
       "    .dataframe thead th {\n",
       "        text-align: right;\n",
       "    }\n",
       "</style>\n",
       "<table border=\"1\" class=\"dataframe\">\n",
       "  <thead>\n",
       "    <tr style=\"text-align: right;\">\n",
       "      <th></th>\n",
       "      <th>0</th>\n",
       "      <th>1</th>\n",
       "      <th>2</th>\n",
       "      <th>3</th>\n",
       "      <th>4</th>\n",
       "      <th>5</th>\n",
       "      <th>6</th>\n",
       "      <th>7</th>\n",
       "    </tr>\n",
       "  </thead>\n",
       "  <tbody>\n",
       "    <tr>\n",
       "      <th>0</th>\n",
       "      <td>Mule Deer with antlers in Palo Duro Canyon Sta...</td>\n",
       "      <td>../datasets/shutterstock/images/1300888363.jpg</td>\n",
       "      <td>shutterstock</td>\n",
       "      <td>1300888363</td>\n",
       "      <td>image/jpeg</td>\n",
       "      <td>44588.0</td>\n",
       "      <td>200</td>\n",
       "      <td>https://image.shutterstock.com/image-photo/mul...</td>\n",
       "    </tr>\n",
       "    <tr>\n",
       "      <th>1</th>\n",
       "      <td>Potato Pancakes Apple Puree, Nuts and Cinnamon...</td>\n",
       "      <td>../datasets/shutterstock/images/1861243240.jpg</td>\n",
       "      <td>shutterstock</td>\n",
       "      <td>1861243240</td>\n",
       "      <td>image/jpeg</td>\n",
       "      <td>30718.0</td>\n",
       "      <td>200</td>\n",
       "      <td>https://image.shutterstock.com/image-photo/pot...</td>\n",
       "    </tr>\n",
       "    <tr>\n",
       "      <th>2</th>\n",
       "      <td>Blue Sky Trees</td>\n",
       "      <td>../datasets/shutterstock/images/1307047705.jpg</td>\n",
       "      <td>shutterstock</td>\n",
       "      <td>1307047705</td>\n",
       "      <td>image/jpeg</td>\n",
       "      <td>20551.0</td>\n",
       "      <td>200</td>\n",
       "      <td>https://image.shutterstock.com/image-photo/blu...</td>\n",
       "    </tr>\n",
       "    <tr>\n",
       "      <th>3</th>\n",
       "      <td>JEONJU, KOREA - NOV, 15, 2018: Beautiful Jeonj...</td>\n",
       "      <td>../datasets/shutterstock/images/1257901573.jpg</td>\n",
       "      <td>shutterstock</td>\n",
       "      <td>1257901573</td>\n",
       "      <td>image/jpeg</td>\n",
       "      <td>53134.0</td>\n",
       "      <td>200</td>\n",
       "      <td>https://image.shutterstock.com/image-photo/jeo...</td>\n",
       "    </tr>\n",
       "    <tr>\n",
       "      <th>4</th>\n",
       "      <td>Thanksgiving background with decorative pumpki...</td>\n",
       "      <td>../datasets/shutterstock/images/1855531294.jpg</td>\n",
       "      <td>shutterstock</td>\n",
       "      <td>1855531294</td>\n",
       "      <td>image/jpeg</td>\n",
       "      <td>26919.0</td>\n",
       "      <td>200</td>\n",
       "      <td>https://image.shutterstock.com/image-photo/tha...</td>\n",
       "    </tr>\n",
       "  </tbody>\n",
       "</table>\n",
       "</div>"
      ],
      "text/plain": [
       "                                                   0   \n",
       "0  Mule Deer with antlers in Palo Duro Canyon Sta...  \\\n",
       "1  Potato Pancakes Apple Puree, Nuts and Cinnamon...   \n",
       "2                                     Blue Sky Trees   \n",
       "3  JEONJU, KOREA - NOV, 15, 2018: Beautiful Jeonj...   \n",
       "4  Thanksgiving background with decorative pumpki...   \n",
       "\n",
       "                                                1             2           3   \n",
       "0  ../datasets/shutterstock/images/1300888363.jpg  shutterstock  1300888363  \\\n",
       "1  ../datasets/shutterstock/images/1861243240.jpg  shutterstock  1861243240   \n",
       "2  ../datasets/shutterstock/images/1307047705.jpg  shutterstock  1307047705   \n",
       "3  ../datasets/shutterstock/images/1257901573.jpg  shutterstock  1257901573   \n",
       "4  ../datasets/shutterstock/images/1855531294.jpg  shutterstock  1855531294   \n",
       "\n",
       "            4        5    6                                                  7  \n",
       "0  image/jpeg  44588.0  200  https://image.shutterstock.com/image-photo/mul...  \n",
       "1  image/jpeg  30718.0  200  https://image.shutterstock.com/image-photo/pot...  \n",
       "2  image/jpeg  20551.0  200  https://image.shutterstock.com/image-photo/blu...  \n",
       "3  image/jpeg  53134.0  200  https://image.shutterstock.com/image-photo/jeo...  \n",
       "4  image/jpeg  26919.0  200  https://image.shutterstock.com/image-photo/tha...  "
      ]
     },
     "execution_count": 21,
     "metadata": {},
     "output_type": "execute_result"
    }
   ],
   "source": [
    "report_dir = os.path.join(data_root, \"shutterstock\", \"downloaded_shutterstock_report.tsv.gz\")\n",
    "report = pd.read_csv(report_dir, sep=\"\\t\", header=None )#, names=[\"caption\", \"image\", \"dataset\", \"type\", \"status\", \"url\"])\n",
    "report.head()"
   ]
  },
  {
   "cell_type": "code",
   "execution_count": 22,
   "id": "4764566f",
   "metadata": {},
   "outputs": [
    {
     "name": "stdout",
     "output_type": "stream",
     "text": [
      "100000/1105945\n",
      "200000/1105945\n",
      "300000/1105945\n",
      "400000/1105945\n",
      "500000/1105945\n",
      "600000/1105945\n",
      "700000/1105945\n",
      "800000/1105945\n",
      "900000/1105945\n",
      "1000000/1105945\n",
      "1100000/1105945\n"
     ]
    }
   ],
   "source": [
    "new_anns = []\n",
    "for i, item in report.iterrows():\n",
    "    if (i+1) % 100000 == 0:\n",
    "        print(f\"{i+1}/{len(report)}\")\n",
    "    if item[6] != 200:  # exclude samples failed to download\n",
    "        continue\n",
    "    image_id = int(item[3])\n",
    "    img_path = os.path.join(\"images\", f\"{image_id}.jpg\")\n",
    "    ann = {\"caption\": item[0], \"image\": img_path}\n",
    "    new_anns.append(ann)\n"
   ]
  },
  {
   "cell_type": "code",
   "execution_count": 23,
   "id": "88222c97",
   "metadata": {},
   "outputs": [
    {
     "name": "stdout",
     "output_type": "stream",
     "text": [
      "Successfully downloaded 1090070 shutterstock samples out of 1105945\n"
     ]
    }
   ],
   "source": [
    "print(\"Successfully downloaded {} shutterstock samples out of {}\".format(len(new_anns), len(new_df)))"
   ]
  },
  {
   "cell_type": "code",
   "execution_count": 24,
   "id": "2a413e06",
   "metadata": {},
   "outputs": [],
   "source": [
    "with open(os.path.join(data_root, \"shutterstock\", \"shutterstock_1m.json\"), \"w\") as f:\n",
    "    json.dump(new_anns, f)"
   ]
  },
  {
   "cell_type": "code",
   "execution_count": null,
   "id": "69084bd4",
   "metadata": {},
   "outputs": [],
   "source": []
  }
 ],
 "metadata": {
  "kernelspec": {
   "display_name": "Python 3 (ipykernel)",
   "language": "python",
   "name": "python3"
  },
  "language_info": {
   "codemirror_mode": {
    "name": "ipython",
    "version": 3
   },
   "file_extension": ".py",
   "mimetype": "text/x-python",
   "name": "python",
   "nbconvert_exporter": "python",
   "pygments_lexer": "ipython3",
   "version": "3.8.10"
  }
 },
 "nbformat": 4,
 "nbformat_minor": 5
}
